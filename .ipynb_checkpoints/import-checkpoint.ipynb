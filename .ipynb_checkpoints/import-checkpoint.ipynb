{
 "metadata": {
  "name": "",
  "signature": "sha256:8b769305077bb5abf0de42e269387c740f94134fe52d9f944c1e89b0ef3c83ff"
 },
 "nbformat": 3,
 "nbformat_minor": 0,
 "worksheets": [
  {
   "cells": [
    {
     "cell_type": "code",
     "collapsed": false,
     "input": [
      "from models import db\n",
      "import json\n",
      "\n",
      "\n",
      "classes = {}\n",
      "with open(\"./alle.json\") as infile:\n",
      "    classes = json.loads(infile.readlines())\n",
      "print(classes)\n"
     ],
     "language": "python",
     "metadata": {},
     "outputs": []
    }
   ],
   "metadata": {}
  }
 ]
}